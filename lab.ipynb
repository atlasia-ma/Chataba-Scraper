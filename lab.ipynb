{
 "cells": [
  {
   "cell_type": "code",
   "execution_count": 2,
   "id": "4c0f2351",
   "metadata": {},
   "outputs": [],
   "source": [
    "import os\n",
    "import json\n",
    "\n",
    "comments_file = \"comments.json\"\n",
    "comments_data = []\n",
    "\n",
    "if os.path.exists(comments_file):\n",
    "    with open(comments_file, \"r\", encoding=\"utf-8\") as infile:\n",
    "        for line in infile:\n",
    "            line = line.strip()\n",
    "            if line:\n",
    "                try:\n",
    "                    comments_data.append(json.loads(line))\n",
    "                except json.JSONDecodeError:\n",
    "                    pass  # skip malformed lines"
   ]
  },
  {
   "cell_type": "code",
   "execution_count": 3,
   "id": "dd0fcdea",
   "metadata": {},
   "outputs": [
    {
     "data": {
      "text/plain": [
       "711"
      ]
     },
     "execution_count": 3,
     "metadata": {},
     "output_type": "execute_result"
    }
   ],
   "source": [
    "post_links_path=\"facebook_post_links.json\"\n",
    "with open(post_links_path,\"r\") as f:\n",
    "    post_links = json.loads(f.read())[\"post_links\"]\n",
    "len(set(post_links))"
   ]
  },
  {
   "cell_type": "code",
   "execution_count": 4,
   "id": "6c4f5cb2",
   "metadata": {},
   "outputs": [
    {
     "data": {
      "text/plain": [
       "462"
      ]
     },
     "execution_count": 4,
     "metadata": {},
     "output_type": "execute_result"
    }
   ],
   "source": [
    "len(comments_data)"
   ]
  },
  {
   "cell_type": "code",
   "execution_count": 5,
   "id": "2a654acd",
   "metadata": {},
   "outputs": [
    {
     "data": {
      "text/plain": [
       "Dataset({\n",
       "    features: ['post_text', 'comments'],\n",
       "    num_rows: 462\n",
       "})"
      ]
     },
     "execution_count": 5,
     "metadata": {},
     "output_type": "execute_result"
    }
   ],
   "source": [
    "from datasets import Dataset\n",
    "Dataset.from_list(comments_data)"
   ]
  },
  {
   "cell_type": "code",
   "execution_count": 6,
   "id": "a066b521",
   "metadata": {},
   "outputs": [
    {
     "data": {
      "text/plain": [
       "dict_keys(['post_text', 'comments'])"
      ]
     },
     "execution_count": 6,
     "metadata": {},
     "output_type": "execute_result"
    }
   ],
   "source": [
    "comments_data[0].keys()"
   ]
  },
  {
   "cell_type": "code",
   "execution_count": 7,
   "id": "5f464e35",
   "metadata": {},
   "outputs": [],
   "source": [
    "comments=[]\n",
    "posts=[]\n",
    "for d in comments_data:\n",
    "    posts.append(d['post_text'])\n",
    "    comments+=d[\"comments\"]\n",
    "    #break"
   ]
  },
  {
   "cell_type": "code",
   "execution_count": 9,
   "id": "a76969a4",
   "metadata": {},
   "outputs": [
    {
     "data": {
      "text/plain": [
       "462"
      ]
     },
     "execution_count": 9,
     "metadata": {},
     "output_type": "execute_result"
    }
   ],
   "source": [
    "len(set(posts))\n",
    "len(posts)"
   ]
  },
  {
   "cell_type": "code",
   "execution_count": null,
   "id": "a68a6edf",
   "metadata": {},
   "outputs": [],
   "source": []
  },
  {
   "cell_type": "code",
   "execution_count": 112,
   "id": "63908392",
   "metadata": {},
   "outputs": [
    {
     "data": {
      "text/plain": [
       "3372085"
      ]
     },
     "execution_count": 112,
     "metadata": {},
     "output_type": "execute_result"
    }
   ],
   "source": [
    "len(comments)"
   ]
  },
  {
   "cell_type": "code",
   "execution_count": 16,
   "id": "46341c3d",
   "metadata": {},
   "outputs": [
    {
     "data": {
      "text/plain": [
       "Dataset({\n",
       "    features: ['content'],\n",
       "    num_rows: 242\n",
       "})"
      ]
     },
     "execution_count": 16,
     "metadata": {},
     "output_type": "execute_result"
    }
   ],
   "source": [
    "ds_comments=Dataset.from_dict({\"comments\":list(set(comments))})\n",
    "ds_posts=Dataset.from_dict({\"content\":list(set(posts))})\n",
    "ds_comments\n",
    "ds_posts"
   ]
  },
  {
   "cell_type": "code",
   "execution_count": 17,
   "id": "bf84f309",
   "metadata": {},
   "outputs": [
    {
     "data": {
      "text/html": [
       "<div>\n",
       "<style scoped>\n",
       "    .dataframe tbody tr th:only-of-type {\n",
       "        vertical-align: middle;\n",
       "    }\n",
       "\n",
       "    .dataframe tbody tr th {\n",
       "        vertical-align: top;\n",
       "    }\n",
       "\n",
       "    .dataframe thead th {\n",
       "        text-align: right;\n",
       "    }\n",
       "</style>\n",
       "<table border=\"1\" class=\"dataframe\">\n",
       "  <thead>\n",
       "    <tr style=\"text-align: right;\">\n",
       "      <th></th>\n",
       "      <th>content</th>\n",
       "    </tr>\n",
       "  </thead>\n",
       "  <tbody>\n",
       "  </tbody>\n",
       "</table>\n",
       "</div>"
      ],
      "text/plain": [
       "Empty DataFrame\n",
       "Columns: [content]\n",
       "Index: []"
      ]
     },
     "execution_count": 17,
     "metadata": {},
     "output_type": "execute_result"
    }
   ],
   "source": [
    "df=ds_posts.to_pandas()\n",
    "df[df.duplicated()]"
   ]
  },
  {
   "cell_type": "code",
   "execution_count": 21,
   "id": "c7d2a42f",
   "metadata": {},
   "outputs": [
    {
     "data": {
      "text/plain": [
       "Dataset({\n",
       "    features: ['comments'],\n",
       "    num_rows: 33127\n",
       "})"
      ]
     },
     "execution_count": 21,
     "metadata": {},
     "output_type": "execute_result"
    }
   ],
   "source": [
    "ds_comments"
   ]
  },
  {
   "cell_type": "code",
   "execution_count": null,
   "id": "4050ce6a",
   "metadata": {},
   "outputs": [
    {
     "data": {
      "application/vnd.jupyter.widget-view+json": {
       "model_id": "a988308158e2495cae0b6f728d59e782",
       "version_major": 2,
       "version_minor": 0
      },
      "text/plain": [
       "Uploading the dataset shards:   0%|          | 0/1 [00:00<?, ? shards/s]"
      ]
     },
     "metadata": {},
     "output_type": "display_data"
    },
    {
     "data": {
      "application/vnd.jupyter.widget-view+json": {
       "model_id": "0d472eefea8f46f8ad7df643c8e79d2f",
       "version_major": 2,
       "version_minor": 0
      },
      "text/plain": [
       "Creating parquet from Arrow format:   0%|          | 0/34 [00:00<?, ?ba/s]"
      ]
     },
     "metadata": {},
     "output_type": "display_data"
    }
   ],
   "source": [
    "ds_comments.push_to_hub(\"abdeljalilELmajjodi/facebook_dataset_scraper_test\",config_name=\"comments\")"
   ]
  },
  {
   "cell_type": "code",
   "execution_count": null,
   "id": "a833d89a",
   "metadata": {},
   "outputs": [
    {
     "data": {
      "text/html": [
       "<div>\n",
       "<style scoped>\n",
       "    .dataframe tbody tr th:only-of-type {\n",
       "        vertical-align: middle;\n",
       "    }\n",
       "\n",
       "    .dataframe tbody tr th {\n",
       "        vertical-align: top;\n",
       "    }\n",
       "\n",
       "    .dataframe thead th {\n",
       "        text-align: right;\n",
       "    }\n",
       "</style>\n",
       "<table border=\"1\" class=\"dataframe\">\n",
       "  <thead>\n",
       "    <tr style=\"text-align: right;\">\n",
       "      <th></th>\n",
       "      <th>comments</th>\n",
       "    </tr>\n",
       "  </thead>\n",
       "  <tbody>\n",
       "    <tr>\n",
       "      <th>0</th>\n",
       "      <td>مقطوع عليهم الضو هادوا؟</td>\n",
       "    </tr>\n",
       "    <tr>\n",
       "      <th>1</th>\n",
       "      <td>اوا إشعلو الضو. صدق من قال ضربني وبكا و سبقني ...</td>\n",
       "    </tr>\n",
       "    <tr>\n",
       "      <th>2</th>\n",
       "      <td>و عندك غي ثضربك للجزائر و تدي ليك لكأس من هنا....</td>\n",
       "    </tr>\n",
       "    <tr>\n",
       "      <th>3</th>\n",
       "      <td>واش غادير مع جمهورية الشيخ نانوات للعطية الجزا...</td>\n",
       "    </tr>\n",
       "    <tr>\n",
       "      <th>4</th>\n",
       "      <td>بنكيران المهداوي الجزائر هههه</td>\n",
       "    </tr>\n",
       "  </tbody>\n",
       "</table>\n",
       "</div>"
      ],
      "text/plain": [
       "                                            comments\n",
       "0                           مقطوع عليهم الضو هادوا؟ \n",
       "1  اوا إشعلو الضو. صدق من قال ضربني وبكا و سبقني ...\n",
       "2  و عندك غي ثضربك للجزائر و تدي ليك لكأس من هنا....\n",
       "3  واش غادير مع جمهورية الشيخ نانوات للعطية الجزا...\n",
       "4                      بنكيران المهداوي الجزائر هههه"
      ]
     },
     "execution_count": 82,
     "metadata": {},
     "output_type": "execute_result"
    }
   ],
   "source": [
    "ds_posts.push_to_hub(\"abdeljalilELmajjodi/facebook_dataset_scraper_test\",config_name=\"posts\")"
   ]
  },
  {
   "cell_type": "code",
   "execution_count": 86,
   "id": "aa792f99",
   "metadata": {},
   "outputs": [
    {
     "data": {
      "text/plain": [
       "np.int64(2022325)"
      ]
     },
     "execution_count": 86,
     "metadata": {},
     "output_type": "execute_result"
    }
   ],
   "source": [
    "df.duplicated(subset=\"comments\").sum()"
   ]
  },
  {
   "cell_type": "code",
   "execution_count": 87,
   "id": "b4120161",
   "metadata": {},
   "outputs": [
    {
     "data": {
      "text/plain": [
       "(2042299, 1)"
      ]
     },
     "execution_count": 87,
     "metadata": {},
     "output_type": "execute_result"
    }
   ],
   "source": [
    "df.shape"
   ]
  },
  {
   "cell_type": "code",
   "execution_count": null,
   "id": "a163ceb1",
   "metadata": {},
   "outputs": [],
   "source": []
  }
 ],
 "metadata": {
  "kernelspec": {
   "display_name": ".venv",
   "language": "python",
   "name": "python3"
  },
  "language_info": {
   "codemirror_mode": {
    "name": "ipython",
    "version": 3
   },
   "file_extension": ".py",
   "mimetype": "text/x-python",
   "name": "python",
   "nbconvert_exporter": "python",
   "pygments_lexer": "ipython3",
   "version": "3.12.11"
  }
 },
 "nbformat": 4,
 "nbformat_minor": 5
}
